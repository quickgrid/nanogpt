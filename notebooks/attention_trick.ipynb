{
 "cells": [
  {
   "attachments": {},
   "cell_type": "markdown",
   "metadata": {},
   "source": [
    "## Left to Right Language Model by Masking Future Token Like GPT."
   ]
  },
  {
   "cell_type": "code",
   "execution_count": 2,
   "metadata": {},
   "outputs": [
    {
     "data": {
      "text/plain": [
       "<torch._C.Generator at 0x2407f905430>"
      ]
     },
     "execution_count": 2,
     "metadata": {},
     "output_type": "execute_result"
    }
   ],
   "source": [
    "import torch\n",
    "torch.manual_seed(42)\n"
   ]
  },
  {
   "cell_type": "code",
   "execution_count": 3,
   "metadata": {},
   "outputs": [
    {
     "name": "stdout",
     "output_type": "stream",
     "text": [
      "torch.Size([4, 8, 2])\n"
     ]
    }
   ],
   "source": [
    "b, t, c = (4, 8, 2)\n",
    "x = torch.randn((b, t, c))\n",
    "print(x.shape)"
   ]
  },
  {
   "attachments": {},
   "cell_type": "markdown",
   "metadata": {},
   "source": [
    "## Average previous values in time dimension"
   ]
  },
  {
   "attachments": {},
   "cell_type": "markdown",
   "metadata": {},
   "source": [
    "Channel dim is independent of other channel dim features in context of averaging. Bag of words for averaging against previous values."
   ]
  },
  {
   "cell_type": "code",
   "execution_count": 4,
   "metadata": {},
   "outputs": [
    {
     "name": "stdout",
     "output_type": "stream",
     "text": [
      "tensor([[ 1.9269,  1.4873],\n",
      "        [ 0.9007, -2.1055],\n",
      "        [ 0.6784, -1.2345],\n",
      "        [-0.0431, -1.6047],\n",
      "        [-0.7521,  1.6487],\n",
      "        [-0.3925, -1.4036],\n",
      "        [-0.7279, -0.5594],\n",
      "        [-0.7688,  0.7624]])\n",
      "tensor([[ 1.9269,  1.4873],\n",
      "        [ 1.4138, -0.3091],\n",
      "        [ 1.1687, -0.6176],\n",
      "        [ 0.8657, -0.8644],\n",
      "        [ 0.5422, -0.3617],\n",
      "        [ 0.3864, -0.5354],\n",
      "        [ 0.2272, -0.5388],\n",
      "        [ 0.1027, -0.3762]])\n"
     ]
    }
   ],
   "source": [
    "xbow = torch.zeros((b, t, c))\n",
    "for i in range(b):\n",
    "    for j in range(t):\n",
    "        xprev = x[i, : j + 1]\n",
    "        xbow[i, j] = torch.mean(xprev, dim=0)\n",
    "\n",
    "print(x[0])\n",
    "print(xbow[0])"
   ]
  },
  {
   "attachments": {},
   "cell_type": "markdown",
   "metadata": {},
   "source": [
    "## Efficient Matrix Multiplication Version"
   ]
  },
  {
   "cell_type": "code",
   "execution_count": 5,
   "metadata": {},
   "outputs": [
    {
     "name": "stdout",
     "output_type": "stream",
     "text": [
      "a = \n",
      "tensor([[1., 1., 1.],\n",
      "        [1., 1., 1.],\n",
      "        [1., 1., 1.]])\n",
      "\n",
      "b = \n",
      "tensor([[0., 1.],\n",
      "        [3., 0.],\n",
      "        [1., 1.]])\n",
      "\n",
      "c = \n",
      "tensor([[4., 2.],\n",
      "        [4., 2.],\n",
      "        [4., 2.]])\n",
      "\n"
     ]
    }
   ],
   "source": [
    "a = torch.ones((3, 3))\n",
    "b = torch.randint(0, 10, (3, 2)).float()\n",
    "\n",
    "c = a @ b\n",
    "\n",
    "print(f\"a = \\n{a}\\n\")\n",
    "print(f\"b = \\n{b}\\n\")\n",
    "print(f\"c = \\n{c}\\n\")"
   ]
  },
  {
   "attachments": {},
   "cell_type": "markdown",
   "metadata": {},
   "source": [
    "Triangular matrix trick to generate sum of previous features. For autoregressive causal left to right model that does not know about future tokens or values."
   ]
  },
  {
   "cell_type": "code",
   "execution_count": 6,
   "metadata": {},
   "outputs": [
    {
     "name": "stdout",
     "output_type": "stream",
     "text": [
      "a = \n",
      "tensor([[1., 0., 0.],\n",
      "        [1., 1., 0.],\n",
      "        [1., 1., 1.]])\n",
      "\n",
      "b = \n",
      "tensor([[7., 9.],\n",
      "        [4., 3.],\n",
      "        [8., 9.]])\n",
      "\n",
      "c = \n",
      "tensor([[ 7.,  9.],\n",
      "        [11., 12.],\n",
      "        [19., 21.]])\n",
      "\n"
     ]
    }
   ],
   "source": [
    "a = torch.tril(torch.ones((3, 3)))\n",
    "b = torch.randint(0, 10, (3, 2)).float()\n",
    "\n",
    "c = a @ b\n",
    "\n",
    "print(f\"a = \\n{a}\\n\")\n",
    "print(f\"b = \\n{b}\\n\")\n",
    "print(f\"c = \\n{c}\\n\")"
   ]
  },
  {
   "attachments": {},
   "cell_type": "markdown",
   "metadata": {},
   "source": [
    "Average previous values by normalizing triangular matrix row wise."
   ]
  },
  {
   "cell_type": "code",
   "execution_count": 7,
   "metadata": {},
   "outputs": [
    {
     "name": "stdout",
     "output_type": "stream",
     "text": [
      "a = \n",
      "tensor([[1.0000, 0.0000, 0.0000],\n",
      "        [0.5000, 0.5000, 0.0000],\n",
      "        [0.3333, 0.3333, 0.3333]])\n",
      "\n",
      "b = \n",
      "tensor([[3., 7.],\n",
      "        [8., 1.],\n",
      "        [4., 1.]])\n",
      "\n",
      "c = \n",
      "tensor([[3.0000, 7.0000],\n",
      "        [5.5000, 4.0000],\n",
      "        [5.0000, 3.0000]])\n",
      "\n"
     ]
    }
   ],
   "source": [
    "a = torch.tril(torch.ones((3, 3)))\n",
    "b = torch.randint(0, 10, (3, 2)).float()\n",
    "\n",
    "a /= torch.sum(a, dim=1, keepdim=True) \n",
    "\n",
    "c = a @ b\n",
    "\n",
    "print(f\"a = \\n{a}\\n\")\n",
    "print(f\"b = \\n{b}\\n\")\n",
    "print(f\"c = \\n{c}\\n\")"
   ]
  },
  {
   "attachments": {},
   "cell_type": "markdown",
   "metadata": {},
   "source": [
    "## Vectorized Averaging by Weighted Sum"
   ]
  },
  {
   "cell_type": "code",
   "execution_count": 8,
   "metadata": {},
   "outputs": [
    {
     "name": "stdout",
     "output_type": "stream",
     "text": [
      "tensor([[1.0000, 0.0000, 0.0000, 0.0000, 0.0000, 0.0000, 0.0000, 0.0000],\n",
      "        [0.5000, 0.5000, 0.0000, 0.0000, 0.0000, 0.0000, 0.0000, 0.0000],\n",
      "        [0.3333, 0.3333, 0.3333, 0.0000, 0.0000, 0.0000, 0.0000, 0.0000],\n",
      "        [0.2500, 0.2500, 0.2500, 0.2500, 0.0000, 0.0000, 0.0000, 0.0000],\n",
      "        [0.2000, 0.2000, 0.2000, 0.2000, 0.2000, 0.0000, 0.0000, 0.0000],\n",
      "        [0.1667, 0.1667, 0.1667, 0.1667, 0.1667, 0.1667, 0.0000, 0.0000],\n",
      "        [0.1429, 0.1429, 0.1429, 0.1429, 0.1429, 0.1429, 0.1429, 0.0000],\n",
      "        [0.1250, 0.1250, 0.1250, 0.1250, 0.1250, 0.1250, 0.1250, 0.1250]])\n"
     ]
    }
   ],
   "source": [
    "weights = torch.tril(torch.ones((t, t)))\n",
    "weights /= torch.sum(weights, dim=1, keepdim=True)\n",
    "print(weights)"
   ]
  },
  {
   "cell_type": "code",
   "execution_count": 9,
   "metadata": {},
   "outputs": [
    {
     "name": "stdout",
     "output_type": "stream",
     "text": [
      "torch.Size([4, 8, 2])\n",
      "True\n",
      "tensor([[ 1.9269,  1.4873],\n",
      "        [ 1.4138, -0.3091],\n",
      "        [ 1.1687, -0.6176],\n",
      "        [ 0.8657, -0.8644],\n",
      "        [ 0.5422, -0.3617],\n",
      "        [ 0.3864, -0.5354],\n",
      "        [ 0.2272, -0.5388],\n",
      "        [ 0.1027, -0.3762]])\n",
      "tensor([[ 1.9269,  1.4873],\n",
      "        [ 1.4138, -0.3091],\n",
      "        [ 1.1687, -0.6176],\n",
      "        [ 0.8657, -0.8644],\n",
      "        [ 0.5422, -0.3617],\n",
      "        [ 0.3864, -0.5354],\n",
      "        [ 0.2272, -0.5388],\n",
      "        [ 0.1027, -0.3762]])\n"
     ]
    }
   ],
   "source": [
    "# (t, t) @ (b, t, c) => (b, t, t) @ (b, t, c) => (b, t, c)\n",
    "xbow_vec = weights @ x\n",
    "print(xbow_vec.shape)\n",
    "print(torch.allclose(xbow, xbow_vec))\n",
    "print(xbow[0])\n",
    "print(xbow_vec[0])"
   ]
  },
  {
   "attachments": {},
   "cell_type": "markdown",
   "metadata": {},
   "source": [
    "## Softmax Version for Previous Value Averaging"
   ]
  },
  {
   "attachments": {},
   "cell_type": "markdown",
   "metadata": {},
   "source": [
    "Using negative infinity for softmax exponential gives 0 for each -inf for correct averaging of previous values."
   ]
  },
  {
   "cell_type": "code",
   "execution_count": 10,
   "metadata": {},
   "outputs": [
    {
     "name": "stdout",
     "output_type": "stream",
     "text": [
      "tensor([[0., -inf, -inf, -inf, -inf, -inf, -inf, -inf],\n",
      "        [0., 0., -inf, -inf, -inf, -inf, -inf, -inf],\n",
      "        [0., 0., 0., -inf, -inf, -inf, -inf, -inf],\n",
      "        [0., 0., 0., 0., -inf, -inf, -inf, -inf],\n",
      "        [0., 0., 0., 0., 0., -inf, -inf, -inf],\n",
      "        [0., 0., 0., 0., 0., 0., -inf, -inf],\n",
      "        [0., 0., 0., 0., 0., 0., 0., -inf],\n",
      "        [0., 0., 0., 0., 0., 0., 0., 0.]])\n",
      "tensor([[1.0000, 0.0000, 0.0000, 0.0000, 0.0000, 0.0000, 0.0000, 0.0000],\n",
      "        [0.5000, 0.5000, 0.0000, 0.0000, 0.0000, 0.0000, 0.0000, 0.0000],\n",
      "        [0.3333, 0.3333, 0.3333, 0.0000, 0.0000, 0.0000, 0.0000, 0.0000],\n",
      "        [0.2500, 0.2500, 0.2500, 0.2500, 0.0000, 0.0000, 0.0000, 0.0000],\n",
      "        [0.2000, 0.2000, 0.2000, 0.2000, 0.2000, 0.0000, 0.0000, 0.0000],\n",
      "        [0.1667, 0.1667, 0.1667, 0.1667, 0.1667, 0.1667, 0.0000, 0.0000],\n",
      "        [0.1429, 0.1429, 0.1429, 0.1429, 0.1429, 0.1429, 0.1429, 0.0000],\n",
      "        [0.1250, 0.1250, 0.1250, 0.1250, 0.1250, 0.1250, 0.1250, 0.1250]])\n",
      "tensor([[1., 0., 0., 0., 0., 0., 0., 0.],\n",
      "        [1., 1., 0., 0., 0., 0., 0., 0.],\n",
      "        [1., 1., 1., 0., 0., 0., 0., 0.],\n",
      "        [1., 1., 1., 1., 0., 0., 0., 0.],\n",
      "        [1., 1., 1., 1., 1., 0., 0., 0.],\n",
      "        [1., 1., 1., 1., 1., 1., 0., 0.],\n",
      "        [1., 1., 1., 1., 1., 1., 1., 0.],\n",
      "        [1., 1., 1., 1., 1., 1., 1., 1.]])\n",
      "True\n"
     ]
    }
   ],
   "source": [
    "from torch.nn import functional as F\n",
    "\n",
    "tril = torch.tril(torch.ones(t, t))\n",
    "weights = torch.zeros((t, t))\n",
    "weights = weights.masked_fill(tril == 0, float('-inf'))\n",
    "print(weights)\n",
    "weights = F.softmax(weights, dim=-1)\n",
    "xbow_soft = weights @ x\n",
    "print(weights)\n",
    "print(tril)\n",
    "print(torch.allclose(xbow, xbow_soft))"
   ]
  },
  {
   "attachments": {},
   "cell_type": "markdown",
   "metadata": {},
   "source": [
    "## Self Attention"
   ]
  },
  {
   "attachments": {},
   "cell_type": "markdown",
   "metadata": {},
   "source": [
    "Batch of 4 with 8 token and each token has 32 dim embedding."
   ]
  },
  {
   "cell_type": "code",
   "execution_count": 15,
   "metadata": {},
   "outputs": [
    {
     "name": "stdout",
     "output_type": "stream",
     "text": [
      "torch.Size([4, 8, 32])\n"
     ]
    }
   ],
   "source": [
    "torch.manual_seed(42)\n",
    "b, t, c = 4, 8, 32 \n",
    "x = torch.randn((b, t, c))\n",
    "\n",
    "tril = torch.tril(torch.ones((t, t)))\n",
    "weights = torch.zeros((t, t))\n",
    "weights = weights.masked_fill(tril == 0, float('-inf'))\n",
    "weights = F.softmax(weights, dim=-1)\n",
    "out = weights @ x\n",
    "\n",
    "print(out.shape)"
   ]
  },
  {
   "attachments": {},
   "cell_type": "markdown",
   "metadata": {},
   "source": [
    "Single head self attention. Masking only used for left to right decoder only LM like GPT, incase of bidirectional encoder only model like BERT."
   ]
  },
  {
   "cell_type": "code",
   "execution_count": 22,
   "metadata": {},
   "outputs": [
    {
     "name": "stdout",
     "output_type": "stream",
     "text": [
      "tensor(0.1231, grad_fn=<VarBackward0>)\n",
      "torch.Size([4, 8, 16])\n",
      "torch.Size([4, 8, 8])\n",
      "tensor([[1.0000, 0.0000, 0.0000, 0.0000, 0.0000, 0.0000, 0.0000, 0.0000],\n",
      "        [0.4106, 0.5894, 0.0000, 0.0000, 0.0000, 0.0000, 0.0000, 0.0000],\n",
      "        [0.3657, 0.2283, 0.4061, 0.0000, 0.0000, 0.0000, 0.0000, 0.0000],\n",
      "        [0.2168, 0.2759, 0.2204, 0.2870, 0.0000, 0.0000, 0.0000, 0.0000],\n",
      "        [0.2553, 0.1697, 0.1548, 0.2341, 0.1861, 0.0000, 0.0000, 0.0000],\n",
      "        [0.1318, 0.2060, 0.1405, 0.1917, 0.1949, 0.1351, 0.0000, 0.0000],\n",
      "        [0.2137, 0.0978, 0.2374, 0.1025, 0.1418, 0.0838, 0.1230, 0.0000],\n",
      "        [0.0852, 0.1047, 0.0824, 0.1376, 0.1015, 0.1900, 0.1780, 0.1206]],\n",
      "       grad_fn=<SelectBackward0>)\n"
     ]
    }
   ],
   "source": [
    "from torch import nn\n",
    "\n",
    "torch.manual_seed(42)\n",
    "b, t, c = 4, 8, 32 \n",
    "x = torch.randn((b, t, c))\n",
    "\n",
    "head_dim = 16\n",
    "to_key = nn.Linear(c, head_dim, bias=False)\n",
    "to_query = nn.Linear(c, head_dim, bias=False)\n",
    "to_value = nn.Linear(c, head_dim, bias=False)\n",
    "\n",
    "k = to_key(x)   # (b, t, head_dim)\n",
    "q = to_query(x) # (b, t, head_dim)\n",
    "v = to_query(x) # (b, t, head_dim)\n",
    "\n",
    "# Transpose only last two dim keeping batch dim. Shape (b, t, t) for token interation attention map.\n",
    "# Divided by sqrt head dim to get variance such that weights are more distributed instead of focused\n",
    "# on a single node where most weights are and in other the weights are close to 0. In that case it will behave like\n",
    "# one hot vector aggregating most info from one single node. It is solved by normalizing with head dim.\n",
    "weights = q @ k.transpose(-1, -2) * (head_dim ** -0.5)     \n",
    "print(weights.var())\n",
    "\n",
    "tril = torch.tril(torch.ones((t, t)))\n",
    "weights = weights.masked_fill(tril == 0, float('-inf')) # For left to right LM where there previous tokens do not know about future tokens.\n",
    "weights = F.softmax(weights, dim=-1)\n",
    "out = weights @ v\n",
    "\n",
    "print(out.shape)\n",
    "print(weights.shape)\n",
    "print(weights[0])"
   ]
  },
  {
   "attachments": {},
   "cell_type": "markdown",
   "metadata": {},
   "source": [
    "## Softmax Variance Problem Example."
   ]
  },
  {
   "attachments": {},
   "cell_type": "markdown",
   "metadata": {},
   "source": [
    "Smoother values."
   ]
  },
  {
   "cell_type": "code",
   "execution_count": 26,
   "metadata": {},
   "outputs": [
    {
     "name": "stdout",
     "output_type": "stream",
     "text": [
      "tensor([0.1925, 0.1426, 0.2351, 0.1426, 0.2872])\n",
      "tensor(0.0039)\n"
     ]
    }
   ],
   "source": [
    "sm_example = torch.softmax(torch.tensor([0.1, -0.2, 0.3, -0.2, 0.5]), dim=-1)\n",
    "print(sm_example)\n",
    "print(sm_example.var())"
   ]
  },
  {
   "attachments": {},
   "cell_type": "markdown",
   "metadata": {},
   "source": [
    "Sharper values."
   ]
  },
  {
   "cell_type": "code",
   "execution_count": 29,
   "metadata": {},
   "outputs": [
    {
     "name": "stdout",
     "output_type": "stream",
     "text": [
      "tensor([0.0326, 0.0030, 0.1615, 0.0030, 0.8000])\n",
      "tensor(0.1168)\n"
     ]
    }
   ],
   "source": [
    "sm_example = torch.softmax(torch.tensor([0.1, -0.2, 0.3, -0.2, 0.5]) * 8, dim=-1)\n",
    "print(sm_example)\n",
    "print(sm_example.var())"
   ]
  },
  {
   "cell_type": "code",
   "execution_count": null,
   "metadata": {},
   "outputs": [],
   "source": []
  }
 ],
 "metadata": {
  "kernelspec": {
   "display_name": "torch4",
   "language": "python",
   "name": "python3"
  },
  "language_info": {
   "codemirror_mode": {
    "name": "ipython",
    "version": 3
   },
   "file_extension": ".py",
   "mimetype": "text/x-python",
   "name": "python",
   "nbconvert_exporter": "python",
   "pygments_lexer": "ipython3",
   "version": "3.10.10"
  },
  "orig_nbformat": 4
 },
 "nbformat": 4,
 "nbformat_minor": 2
}
