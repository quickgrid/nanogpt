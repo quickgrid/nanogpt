{
 "cells": [
  {
   "attachments": {},
   "cell_type": "markdown",
   "metadata": {},
   "source": [
    "## Data Input"
   ]
  },
  {
   "cell_type": "code",
   "execution_count": 19,
   "metadata": {},
   "outputs": [],
   "source": [
    "with open('../data/tiny_shakespeare.txt', 'r') as f:\n",
    "    text = f.read()"
   ]
  },
  {
   "cell_type": "code",
   "execution_count": 20,
   "metadata": {},
   "outputs": [
    {
     "name": "stdout",
     "output_type": "stream",
     "text": [
      "1115394\n"
     ]
    }
   ],
   "source": [
    "print(len(text))"
   ]
  },
  {
   "cell_type": "code",
   "execution_count": 21,
   "metadata": {},
   "outputs": [
    {
     "name": "stdout",
     "output_type": "stream",
     "text": [
      "First Citizen:\n",
      "Before we proceed any further, hear me speak.\n",
      "\n",
      "All:\n",
      "Speak, speak.\n",
      "\n",
      "First Citizen:\n",
      "You are all resolved rather to die than to famish?\n",
      "\n",
      "All:\n",
      "Resolved. resolved.\n",
      "\n",
      "First Citizen:\n",
      "First, you know Caius Marcius is chief enemy to the people.\n",
      "\n",
      "All:\n",
      "We know't, we know't.\n",
      "\n",
      "First Citizen:\n",
      "Let us kill him, and we'll have corn at our own price.\n",
      "Is't a verdict?\n",
      "\n",
      "All:\n",
      "No more talking on't; let it \n"
     ]
    }
   ],
   "source": [
    "print(text[:400])"
   ]
  },
  {
   "attachments": {},
   "cell_type": "markdown",
   "metadata": {},
   "source": [
    "## Character Level Tokenization"
   ]
  },
  {
   "cell_type": "code",
   "execution_count": 22,
   "metadata": {},
   "outputs": [
    {
     "name": "stdout",
     "output_type": "stream",
     "text": [
      "\n",
      " !$&',-.3:;?ABCDEFGHIJKLMNOPQRSTUVWXYZabcdefghijklmnopqrstuvwxyz\n",
      "65\n"
     ]
    }
   ],
   "source": [
    "chars = sorted(set(text))\n",
    "vocab_size = len(chars)\n",
    "print(''.join(chars))\n",
    "print(vocab_size)"
   ]
  },
  {
   "cell_type": "code",
   "execution_count": 23,
   "metadata": {},
   "outputs": [
    {
     "name": "stdout",
     "output_type": "stream",
     "text": [
      "[46, 43, 50, 50, 53, 1, 61, 53, 56, 50, 42]\n",
      "hello world\n"
     ]
    }
   ],
   "source": [
    "char_to_index = {ch: i for i, ch in enumerate(chars)}\n",
    "index_to_char = {i: ch for i, ch in enumerate(chars)} \n",
    "\n",
    "encode = lambda s: [char_to_index[c] for c in s]\n",
    "decode = lambda ids: ''.join([index_to_char[i] for i in ids])\n",
    "\n",
    "input_txt = \"hello world\"\n",
    "encoded_data = encode(input_txt)\n",
    "decoded_data = decode(encoded_data)\n",
    "print(encoded_data)\n",
    "print(decoded_data)"
   ]
  },
  {
   "cell_type": "code",
   "execution_count": 24,
   "metadata": {},
   "outputs": [
    {
     "name": "stdout",
     "output_type": "stream",
     "text": [
      "torch.Size([1115394]) torch.int64\n",
      "tensor([18, 47, 56, 57, 58,  1, 15, 47, 58, 47, 64, 43, 52, 10,  0, 14, 43, 44,\n",
      "        53, 56, 43,  1, 61, 43,  1, 54, 56, 53, 41, 43, 43, 42,  1, 39, 52, 63,\n",
      "         1, 44, 59, 56, 58, 46, 43, 56,  6,  1, 46, 43, 39, 56,  1, 51, 43,  1,\n",
      "        57, 54, 43, 39, 49,  8,  0,  0, 13, 50, 50, 10,  0, 31, 54, 43, 39, 49,\n",
      "         6,  1, 57, 54, 43, 39, 49,  8,  0,  0, 18, 47, 56, 57, 58,  1, 15, 47,\n",
      "        58, 47, 64, 43, 52, 10,  0, 37, 53, 59,  1, 39, 56, 43,  1, 39, 50, 50,\n",
      "         1, 56, 43, 57, 53, 50, 60, 43, 42,  1, 56, 39, 58, 46, 43, 56,  1, 58,\n",
      "        53,  1, 42, 47, 43,  1, 58, 46, 39, 52,  1, 58, 53,  1, 44, 39, 51, 47,\n",
      "        57, 46, 12,  0,  0, 13, 50, 50, 10,  0, 30, 43, 57, 53, 50, 60, 43, 42,\n",
      "         8,  1, 56, 43, 57, 53, 50, 60, 43, 42,  8,  0,  0, 18, 47, 56, 57, 58,\n",
      "         1, 15, 47, 58, 47, 64, 43, 52, 10,  0, 18, 47, 56, 57, 58,  6,  1, 63,\n",
      "        53, 59,  1, 49, 52, 53, 61,  1, 15, 39, 47, 59, 57,  1, 25, 39, 56, 41,\n",
      "        47, 59, 57,  1, 47, 57,  1, 41, 46, 47, 43, 44,  1, 43, 52, 43, 51, 63,\n",
      "         1, 58, 53,  1, 58, 46, 43,  1, 54, 43, 53, 54, 50, 43,  8,  0,  0, 13,\n",
      "        50, 50, 10,  0, 35, 43,  1, 49, 52, 53, 61,  5, 58,  6,  1, 61, 43,  1,\n",
      "        49, 52, 53, 61,  5, 58,  8,  0,  0, 18, 47, 56, 57, 58,  1, 15, 47, 58,\n",
      "        47, 64, 43, 52, 10,  0, 24, 43, 58,  1, 59, 57,  1, 49, 47, 50, 50,  1,\n",
      "        46, 47, 51,  6,  1, 39, 52, 42,  1, 61, 43,  5, 50, 50,  1, 46, 39, 60,\n",
      "        43,  1, 41, 53, 56, 52,  1, 39, 58,  1, 53, 59, 56,  1, 53, 61, 52,  1,\n",
      "        54, 56, 47, 41, 43,  8,  0, 21, 57,  5, 58,  1, 39,  1, 60, 43, 56, 42,\n",
      "        47, 41, 58, 12,  0,  0, 13, 50, 50, 10,  0, 26, 53,  1, 51, 53, 56, 43,\n",
      "         1, 58, 39, 50, 49, 47, 52, 45,  1, 53, 52,  5, 58, 11,  1, 50, 43, 58,\n",
      "         1, 47, 58,  1])\n"
     ]
    }
   ],
   "source": [
    "import torch\n",
    "data = torch.tensor(encode(text), dtype=torch.long)\n",
    "print(data.shape, data.dtype)\n",
    "print(data[:400])"
   ]
  },
  {
   "attachments": {},
   "cell_type": "markdown",
   "metadata": {},
   "source": [
    "## Train, Validation Split"
   ]
  },
  {
   "cell_type": "code",
   "execution_count": 25,
   "metadata": {},
   "outputs": [],
   "source": [
    "train_split_percentage = 0.9\n",
    "n = int(train_split_percentage * len(data))\n",
    "train_data = data[:n]\n",
    "validation_data = data[n:]"
   ]
  },
  {
   "attachments": {},
   "cell_type": "markdown",
   "metadata": {},
   "source": [
    "## Context Block"
   ]
  },
  {
   "cell_type": "code",
   "execution_count": 26,
   "metadata": {},
   "outputs": [
    {
     "name": "stdout",
     "output_type": "stream",
     "text": [
      "tensor([18, 47, 56, 57, 58,  1, 15, 47, 58])\n",
      "First Cit\n"
     ]
    }
   ],
   "source": [
    "context_length = 8\n",
    "\n",
    "print(train_data[:context_length + 1])\n",
    "print(decode(train_data[:context_length + 1].numpy()))"
   ]
  },
  {
   "cell_type": "code",
   "execution_count": 27,
   "metadata": {},
   "outputs": [
    {
     "name": "stdout",
     "output_type": "stream",
     "text": [
      "tensor([18, 47, 56, 57, 58,  1, 15, 47])\n",
      "tensor([47, 56, 57, 58,  1, 15, 47, 58])\n",
      "\n",
      "input: tensor([18]), target: 47\n",
      "input: tensor([18]), target: 47\n",
      "input: tensor([18, 47]), target: 56\n",
      "input: tensor([18, 47]), target: 56\n",
      "input: tensor([18, 47, 56]), target: 57\n",
      "input: tensor([18, 47, 56]), target: 57\n",
      "input: tensor([18, 47, 56, 57]), target: 58\n",
      "input: tensor([18, 47, 56, 57]), target: 58\n",
      "input: tensor([18, 47, 56, 57, 58]), target: 1\n",
      "input: tensor([18, 47, 56, 57, 58]), target: 1\n",
      "input: tensor([18, 47, 56, 57, 58,  1]), target: 15\n",
      "input: tensor([18, 47, 56, 57, 58,  1]), target: 15\n",
      "input: tensor([18, 47, 56, 57, 58,  1, 15]), target: 47\n",
      "input: tensor([18, 47, 56, 57, 58,  1, 15]), target: 47\n",
      "input: tensor([18, 47, 56, 57, 58,  1, 15, 47]), target: 58\n",
      "input: tensor([18, 47, 56, 57, 58,  1, 15, 47]), target: 58\n"
     ]
    }
   ],
   "source": [
    "x = train_data[:context_length]\n",
    "y = train_data[1:context_length + 1]\n",
    "\n",
    "print(x)\n",
    "print(y)\n",
    "print()\n",
    "\n",
    "for t in range(context_length):\n",
    "    context = x[:t + 1] \n",
    "    target = y[t]\n",
    "    print(f\"input: {context}, target: {target}\")\n",
    "    print(f\"input: {context}, target: {target}\")"
   ]
  },
  {
   "attachments": {},
   "cell_type": "markdown",
   "metadata": {},
   "source": [
    "## Batching"
   ]
  },
  {
   "cell_type": "code",
   "execution_count": 28,
   "metadata": {},
   "outputs": [
    {
     "name": "stdout",
     "output_type": "stream",
     "text": [
      "inputs\n",
      "torch.Size([4, 8])\n",
      "tensor([[57,  1, 46, 47, 57,  1, 50, 53],\n",
      "        [ 1, 58, 46, 43, 56, 43,  1, 41],\n",
      "        [17, 26, 15, 17, 10,  0, 32, 53],\n",
      "        [57, 58,  6,  1, 61, 47, 58, 46]])\n",
      "targets\n",
      "torch.Size([4, 8])\n",
      "tensor([[ 1, 46, 47, 57,  1, 50, 53, 60],\n",
      "        [58, 46, 43, 56, 43,  1, 41, 39],\n",
      "        [26, 15, 17, 10,  0, 32, 53,  1],\n",
      "        [58,  6,  1, 61, 47, 58, 46,  0]])\n",
      "----------\n",
      "input: tensor([57]), target: 1\n",
      "input: tensor([57,  1]), target: 46\n",
      "input: tensor([57,  1, 46]), target: 47\n",
      "input: tensor([57,  1, 46, 47]), target: 57\n",
      "input: tensor([57,  1, 46, 47, 57]), target: 1\n",
      "input: tensor([57,  1, 46, 47, 57,  1]), target: 50\n",
      "input: tensor([57,  1, 46, 47, 57,  1, 50]), target: 53\n",
      "input: tensor([57,  1, 46, 47, 57,  1, 50, 53]), target: 60\n",
      "input: tensor([1]), target: 58\n",
      "input: tensor([ 1, 58]), target: 46\n",
      "input: tensor([ 1, 58, 46]), target: 43\n",
      "input: tensor([ 1, 58, 46, 43]), target: 56\n",
      "input: tensor([ 1, 58, 46, 43, 56]), target: 43\n",
      "input: tensor([ 1, 58, 46, 43, 56, 43]), target: 1\n",
      "input: tensor([ 1, 58, 46, 43, 56, 43,  1]), target: 41\n",
      "input: tensor([ 1, 58, 46, 43, 56, 43,  1, 41]), target: 39\n",
      "input: tensor([17]), target: 26\n",
      "input: tensor([17, 26]), target: 15\n",
      "input: tensor([17, 26, 15]), target: 17\n",
      "input: tensor([17, 26, 15, 17]), target: 10\n",
      "input: tensor([17, 26, 15, 17, 10]), target: 0\n",
      "input: tensor([17, 26, 15, 17, 10,  0]), target: 32\n",
      "input: tensor([17, 26, 15, 17, 10,  0, 32]), target: 53\n",
      "input: tensor([17, 26, 15, 17, 10,  0, 32, 53]), target: 1\n",
      "input: tensor([57]), target: 58\n",
      "input: tensor([57, 58]), target: 6\n",
      "input: tensor([57, 58,  6]), target: 1\n",
      "input: tensor([57, 58,  6,  1]), target: 61\n",
      "input: tensor([57, 58,  6,  1, 61]), target: 47\n",
      "input: tensor([57, 58,  6,  1, 61, 47]), target: 58\n",
      "input: tensor([57, 58,  6,  1, 61, 47, 58]), target: 46\n",
      "input: tensor([57, 58,  6,  1, 61, 47, 58, 46]), target: 0\n"
     ]
    }
   ],
   "source": [
    "torch.manual_seed(42)\n",
    "batch_size = 4\n",
    "context_length = 8\n",
    "\n",
    "\n",
    "def get_batch(split):\n",
    "    data = train_data if split == \"train\" else validation_data\n",
    "    ix = torch.randint(low=0, high=len(data) - context_length, size=(batch_size, ))\n",
    "    x = torch.stack([data[i: i + context_length] for i in ix])\n",
    "    y = torch.stack([data[i + 1: i + context_length + 1] for i in ix])\n",
    "    return x, y\n",
    "\n",
    "\n",
    "xb, yb = get_batch(\"train\")\n",
    "print(\"inputs\")\n",
    "print(xb.shape)\n",
    "print(xb)\n",
    "print(\"targets\")\n",
    "print(yb.shape)\n",
    "print(yb)\n",
    "\n",
    "print('-' * 10)\n",
    "\n",
    "for b in range(batch_size):\n",
    "    for t in range(context_length):\n",
    "        context = xb[b, :t + 1]\n",
    "        target = yb[b, t]\n",
    "        print(f\"input: {context}, target: {target}\")"
   ]
  },
  {
   "attachments": {},
   "cell_type": "markdown",
   "metadata": {},
   "source": [
    "## Model"
   ]
  },
  {
   "cell_type": "code",
   "execution_count": 29,
   "metadata": {},
   "outputs": [],
   "source": [
    "import torch\n",
    "import torch.nn as nn\n",
    "from torch.nn import functional as F\n",
    "torch.manual_seed(42)\n",
    "\n",
    "\n",
    "class BigramLanguageModel(nn.Module):\n",
    "    def __init__(self, vocab_size):\n",
    "        super(BigramLanguageModel, self).__init__()\n",
    "        self.token_embedding_table = nn.Embedding(num_embeddings=vocab_size, embedding_dim=vocab_size)\n",
    "\n",
    "    def forward(self, idx, targets=None):\n",
    "        \"\"\"Logits in shape of (batch, time_dim, channel_dim) which is reshaped to 2d tensor for cross entropy loss. \n",
    "        `t` is the time dimension and `c` is channel dim each token.\n",
    "        \"\"\"\n",
    "        logits = self.token_embedding_table(idx)\n",
    "\n",
    "        if targets is None:\n",
    "            loss = None\n",
    "        else:\n",
    "            b, t, c = logits.shape\n",
    "            logits = logits.view(b * t, c)\n",
    "            targets = targets.view(b * t)\n",
    "            loss = F.cross_entropy(logits, targets)\n",
    "\n",
    "        return logits, loss\n",
    "    \n",
    "    def generate(self, idx, max_new_tokens: int):\n",
    "        \"\"\"Generates new token from previous token and sample top 1 from softmax probs for next id.\n",
    "        \"\"\"\n",
    "        for _ in range(max_new_tokens):\n",
    "            logits, loss = self(idx)\n",
    "            logits = logits[:, -1, :]\n",
    "            probs = F.softmax(logits, dim=-1)\n",
    "            ids_next = torch.multinomial(probs, num_samples=1)\n",
    "            idx = torch.cat([idx, ids_next], dim=1)\n",
    "\n",
    "        return idx"
   ]
  },
  {
   "attachments": {},
   "cell_type": "markdown",
   "metadata": {},
   "source": [
    "## Setup"
   ]
  },
  {
   "cell_type": "code",
   "execution_count": 30,
   "metadata": {},
   "outputs": [],
   "source": [
    "device = 'cuda' if torch.cuda.is_available() else 'cpu'"
   ]
  },
  {
   "cell_type": "code",
   "execution_count": 31,
   "metadata": {},
   "outputs": [
    {
     "name": "stdout",
     "output_type": "stream",
     "text": [
      "torch.Size([32, 65])\n",
      "tensor(4.8865, device='cuda:0', grad_fn=<NllLossBackward0>)\n",
      "tensor([[ 0, 22,  0,  9, 59,  1, 10, 37,  9, 30, 22, 58, 40, 64, 16, 28,  5, 34,\n",
      "         18, 32, 61, 28, 19, 58,  5, 59, 37,  9, 33, 35, 42, 36, 30,  9, 24, 52,\n",
      "         55, 32, 15, 33,  6, 36, 54, 58, 62, 41, 19, 37,  6, 59, 27, 46, 48, 38,\n",
      "         28, 21, 51, 36, 17, 28,  7, 25, 13, 31,  7, 62, 23, 54, 19, 54, 27, 61,\n",
      "         47, 57, 15, 40, 25, 21, 11, 21, 32,  9, 57, 16, 55, 56, 45, 38, 28, 54,\n",
      "         58, 40, 13, 57, 58, 28, 22,  8, 35, 19, 21]], device='cuda:0')\n",
      "torch.Size([1, 101])\n",
      "\n",
      "J\n",
      "3u :Y3RJtbzDP'VFTwPGt'uY3UWdXR3LnqTCU,XptxcGY,uOhjZPImXEP-MAS-xKpGpOwisCbMI;IT3sDqrgZPptbAstPJ.WGI\n"
     ]
    }
   ],
   "source": [
    "model = BigramLanguageModel(vocab_size=vocab_size).to(device)\n",
    "logits, loss = model(xb.to(device), yb.to(device))\n",
    "print(logits.shape)\n",
    "print(loss)\n",
    "\n",
    "\n",
    "pred_token_idx = model.generate(torch.zeros((1, 1), dtype=torch.long, device=device), max_new_tokens=100)\n",
    "print(pred_token_idx)\n",
    "print(pred_token_idx.shape)\n",
    "print(decode(pred_token_idx[0].tolist()))"
   ]
  },
  {
   "cell_type": "code",
   "execution_count": 32,
   "metadata": {},
   "outputs": [],
   "source": [
    "optimizer = torch.optim.AdamW(model.parameters(), lr=1e-3)"
   ]
  },
  {
   "cell_type": "code",
   "execution_count": 33,
   "metadata": {},
   "outputs": [],
   "source": [
    "from contextlib import nullcontext\n",
    "ctx = nullcontext() if device == 'cpu' else torch.amp.autocast(device_type=device, dtype=torch.float16)"
   ]
  },
  {
   "attachments": {},
   "cell_type": "markdown",
   "metadata": {},
   "source": [
    "## Multiple Batch Loss Evaluation "
   ]
  },
  {
   "cell_type": "code",
   "execution_count": 34,
   "metadata": {},
   "outputs": [],
   "source": [
    "batch_size = 32\n",
    "train_iters = 10000\n",
    "eval_iters = 1000"
   ]
  },
  {
   "cell_type": "code",
   "execution_count": 35,
   "metadata": {},
   "outputs": [],
   "source": [
    "@torch.no_grad()\n",
    "def estimate_loss():\n",
    "    out = {}\n",
    "    model.eval()\n",
    "    for split in ['train', 'val']:\n",
    "        losses = torch.zeros(eval_iters)\n",
    "        for k in range(eval_iters):\n",
    "            x, y = get_batch(split)\n",
    "            x = x.to(device)\n",
    "            y = y.to(device)\n",
    "            with ctx:\n",
    "                logits, loss = model(x, y)\n",
    "            losses[k] = loss.item()\n",
    "        out[split] = losses.mean()\n",
    "    model.train()            \n",
    "    return out"
   ]
  },
  {
   "attachments": {},
   "cell_type": "markdown",
   "metadata": {},
   "source": [
    "## Training"
   ]
  },
  {
   "cell_type": "code",
   "execution_count": 36,
   "metadata": {},
   "outputs": [
    {
     "name": "stdout",
     "output_type": "stream",
     "text": [
      "step: 0: train loss: 4.7235, val loss: 4.8366\n",
      "step: 1000: train loss: 3.7480, val loss: 3.7540\n",
      "step: 2000: train loss: 3.1858, val loss: 3.1581\n",
      "step: 3000: train loss: 2.7646, val loss: 2.9920\n",
      "step: 4000: train loss: 2.6448, val loss: 2.6794\n",
      "step: 5000: train loss: 2.6049, val loss: 2.6654\n",
      "step: 6000: train loss: 2.5604, val loss: 2.4489\n",
      "step: 7000: train loss: 2.4623, val loss: 2.4588\n",
      "step: 8000: train loss: 2.4680, val loss: 2.5116\n",
      "step: 9000: train loss: 2.4063, val loss: 2.4581\n",
      "final train loss: 2.5170, val loss: 2.4581\n"
     ]
    }
   ],
   "source": [
    "for i in range(train_iters):\n",
    "    xb, yb = get_batch('train')\n",
    "    xb = xb.to(device)\n",
    "    yb = yb.to(device)\n",
    "    logits, loss = model(xb, yb)\n",
    "    optimizer.zero_grad(set_to_none=True)\n",
    "    loss.backward()\n",
    "    optimizer.step()\n",
    "\n",
    "    if i % eval_iters == 0:\n",
    "        # losses = estimate_loss()\n",
    "        # print(f\"step: {i}: train loss: {losses['train']:.4f}, val loss: {losses['val']:.4f}\")\n",
    "\n",
    "        x, y = get_batch('val')\n",
    "        x = x.to(device)\n",
    "        y = y.to(device)\n",
    "        with ctx:\n",
    "            val_logits, val_loss = model(x, y)\n",
    "\n",
    "        print(f\"step: {i}: train loss: {loss:.4f}, val loss: {val_loss:.4f}\")\n",
    "\n",
    "\n",
    "print(f\"final train loss: {loss.item():.4f}, val loss: {val_loss:.4f}\")\n"
   ]
  },
  {
   "attachments": {},
   "cell_type": "markdown",
   "metadata": {},
   "source": [
    "## Generation"
   ]
  },
  {
   "cell_type": "code",
   "execution_count": 37,
   "metadata": {},
   "outputs": [
    {
     "name": "stdout",
     "output_type": "stream",
     "text": [
      "torch.Size([1, 401])\n",
      "\n",
      "cody inde Miced tlat mang yofowhas\n",
      "SThind.\n",
      "UCENGr url hathapr me machan fl haisu d iere--d'durore cense wince me, woass t avest t, metha'?\n",
      "\n",
      "Mavy?\n",
      "\n",
      "\n",
      "TINSThyourBRGLONGof ind s hevalshe, ENVI an ndowe:\n",
      "LUSGo be's lore we, bd ph-erpefoue t he ososour talunghimybr g y Hockis thtin;\n",
      "Bee s mire akns t\n",
      "Thanesa amnfod bs as Y w:\n",
      "K:\n",
      "Tharease VQUK: my feristhatessotrilorule, maripakn 'sealanks, gZABETZWeide.\n"
     ]
    }
   ],
   "source": [
    "pred_token_idx = model.generate(torch.zeros((1, 1), dtype=torch.long, device=device), max_new_tokens=400)\n",
    "# print(pred_token_idx)\n",
    "print(pred_token_idx.shape)\n",
    "print(decode(pred_token_idx[0].tolist()))"
   ]
  },
  {
   "cell_type": "code",
   "execution_count": null,
   "metadata": {},
   "outputs": [],
   "source": []
  }
 ],
 "metadata": {
  "kernelspec": {
   "display_name": "torch4",
   "language": "python",
   "name": "python3"
  },
  "language_info": {
   "codemirror_mode": {
    "name": "ipython",
    "version": 3
   },
   "file_extension": ".py",
   "mimetype": "text/x-python",
   "name": "python",
   "nbconvert_exporter": "python",
   "pygments_lexer": "ipython3",
   "version": "3.10.10"
  },
  "orig_nbformat": 4
 },
 "nbformat": 4,
 "nbformat_minor": 2
}
